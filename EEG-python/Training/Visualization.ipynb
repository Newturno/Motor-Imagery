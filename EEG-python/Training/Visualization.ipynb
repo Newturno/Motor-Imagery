{
 "cells": [
  {
   "cell_type": "code",
   "execution_count": 1,
   "metadata": {},
   "outputs": [],
   "source": [
    "import numpy as np\n",
    "import matplotlib.pyplot as plt\n",
    "import mne\n",
    "import os\n",
    "import sys\n",
    "from mne.datasets import eegbci\n",
    "import glob\n",
    "from IPython.display import clear_output\n",
    "import numpy as np\n",
    "import torch\n",
    "from torch import nn\n",
    "import torch.optim as optim\n",
    "\n",
    "from mne.datasets import eegbci\n",
    "from sklearn.model_selection import train_test_split\n",
    "from torch.utils.data import TensorDataset\n",
    "from torch.utils.data import DataLoader\n",
    "from scipy import signal\n",
    "\n",
    "import torch\n",
    "import torch.cuda as cuda\n",
    "import torch.nn as nn\n",
    "from torch.autograd import Variable\n",
    "import math\n",
    "\n",
    "\n",
    "from mne import (io, compute_raw_covariance, read_events, pick_types, Epochs)\n",
    "from mne.preprocessing import Xdawn\n",
    "from dataset import EEG\n",
    "\n",
    "\n",
    "import numpy as np\n",
    "import matplotlib.pyplot as plt\n",
    "from matplotlib.colors import TwoSlopeNorm\n",
    "import pandas as pd\n",
    "import seaborn as sns\n",
    "import mne\n",
    "from mne.datasets import eegbci\n",
    "from mne.io import concatenate_raws, read_raw_edf\n",
    "from mne.time_frequency import tfr_multitaper\n",
    "from mne.stats import permutation_cluster_1samp_test as pcluster_test\n",
    "from sklearn.discriminant_analysis import LinearDiscriminantAnalysis as LDA\n",
    "from sklearn.ensemble import RandomForestClassifier\n",
    "from sklearn.metrics import accuracy_score\n",
    "from sklearn import svm\n",
    "sys.path.append(os.path.abspath(os.path.join('..')))\n",
    "# Now do your import\n",
    "from config import *"
   ]
  },
  {
   "cell_type": "markdown",
   "metadata": {},
   "source": []
  },
  {
   "cell_type": "code",
   "execution_count": 2,
   "metadata": {},
   "outputs": [],
   "source": [
    "#runs =[[3,5,7,9],[4,6,8,10],[3,4,5,6,7,8,9,10]]\n",
    "#session 1\n",
    "#runs =[[3,5],[4,6],[3,4,5,6]]\n",
    "#session 2\n",
    "#runs = [[7,9],[8,10],[7,8,9,10]]\n",
    "#runs_name = ['EX','MI',\"ALL\"]\n",
    "runs = [[1]]\n",
    "#runs = [[26,27,28,29,30]]\n",
    "runs_name = ['MI']\n",
    "subjects = [21]\n",
    "\n",
    "freqs = np.arange(8, 13)  # frequencies from 2-35Hz\n",
    "vmin, vmax = -10, 10  # set min and max ERDS values in plot\n",
    "baseline = (-3,0)  # baseline interval (in s)\n",
    "tmin, tmax = -3,5\n",
    "freq_bounds = {'_': 0,\n",
    "               'delta': 3,\n",
    "               'theta': 7,\n",
    "               'alpha': 13,\n",
    "               'beta': 35,\n",
    "               'gamma': 140}\n",
    "\n",
    "path = RECORED_PATH\n",
    "base_url = 'https://physionet.org/files/eegmmidb/'\n",
    "freq_bands_of_interest = ['delta', 'theta', 'alpha', 'beta','gamma']"
   ]
  },
  {
   "cell_type": "code",
   "execution_count": 3,
   "metadata": {},
   "outputs": [
    {
     "name": "stdout",
     "output_type": "stream",
     "text": [
      "**************** MI **********\n",
      "**************** [1] **********\n",
      "/Users/pongkornsettasompop/Desktop/work/Motor-Imagery/EEG-python/dataset/recorded_EEG\n",
      "Filtering raw data in 1 contiguous segment\n",
      "Setting up band-stop filter from 49 - 51 Hz\n",
      "\n",
      "FIR filter parameters\n",
      "---------------------\n",
      "Designing a one-pass, zero-phase, non-causal bandstop filter:\n",
      "- Windowed time-domain design (firwin) method\n",
      "- Hamming window with 0.0194 passband ripple and 53 dB stopband attenuation\n",
      "- Lower passband edge: 49.38\n",
      "- Lower transition bandwidth: 0.50 Hz (-6 dB cutoff frequency: 49.12 Hz)\n",
      "- Upper passband edge: 50.62 Hz\n",
      "- Upper transition bandwidth: 0.50 Hz (-6 dB cutoff frequency: 50.88 Hz)\n",
      "- Filter length: 1651 samples (6.604 s)\n",
      "\n",
      "NOTE: pick_channels() is a legacy function. New code should use inst.pick(...).\n"
     ]
    },
    {
     "ename": "ValueError",
     "evalue": "max() arg is an empty sequence",
     "output_type": "error",
     "traceback": [
      "\u001b[0;31m---------------------------------------------------------------------------\u001b[0m",
      "\u001b[0;31mValueError\u001b[0m                                Traceback (most recent call last)",
      "\u001b[1;32m/Users/pongkornsettasompop/Desktop/work/Motor-Imagery/EEG-python/Training/Visualization.ipynb Cell 4\u001b[0m line \u001b[0;36m1\n\u001b[1;32m      <a href='vscode-notebook-cell:/Users/pongkornsettasompop/Desktop/work/Motor-Imagery/EEG-python/Training/Visualization.ipynb#W3sZmlsZQ%3D%3D?line=7'>8</a>\u001b[0m \u001b[39m#print(\"HELLO\")\u001b[39;00m\n\u001b[1;32m      <a href='vscode-notebook-cell:/Users/pongkornsettasompop/Desktop/work/Motor-Imagery/EEG-python/Training/Visualization.ipynb#W3sZmlsZQ%3D%3D?line=8'>9</a>\u001b[0m \u001b[39m#print(raw.info['ch_names'])\u001b[39;00m\n\u001b[1;32m     <a href='vscode-notebook-cell:/Users/pongkornsettasompop/Desktop/work/Motor-Imagery/EEG-python/Training/Visualization.ipynb#W3sZmlsZQ%3D%3D?line=9'>10</a>\u001b[0m raw\u001b[39m.\u001b[39mpick_channels([\u001b[39m'\u001b[39m\u001b[39mT3\u001b[39m\u001b[39m'\u001b[39m,\u001b[39m'\u001b[39m\u001b[39mC3\u001b[39m\u001b[39m'\u001b[39m,\u001b[39m'\u001b[39m\u001b[39mC4\u001b[39m\u001b[39m'\u001b[39m,\u001b[39m'\u001b[39m\u001b[39mT4\u001b[39m\u001b[39m'\u001b[39m,\u001b[39m'\u001b[39m\u001b[39mSTIM MARKERS\u001b[39m\u001b[39m'\u001b[39m])\n\u001b[0;32m---> <a href='vscode-notebook-cell:/Users/pongkornsettasompop/Desktop/work/Motor-Imagery/EEG-python/Training/Visualization.ipynb#W3sZmlsZQ%3D%3D?line=11'>12</a>\u001b[0m epochs\u001b[39m=\u001b[39meeg\u001b[39m.\u001b[39;49mepochs(raw,tmin\u001b[39m=\u001b[39;49mtmin,tmax\u001b[39m=\u001b[39;49mtmax,baseline\u001b[39m=\u001b[39;49mbaseline) \n\u001b[1;32m     <a href='vscode-notebook-cell:/Users/pongkornsettasompop/Desktop/work/Motor-Imagery/EEG-python/Training/Visualization.ipynb#W3sZmlsZQ%3D%3D?line=12'>13</a>\u001b[0m event_ids \u001b[39m=\u001b[39m epochs\u001b[39m.\u001b[39mevent_id\n\u001b[1;32m     <a href='vscode-notebook-cell:/Users/pongkornsettasompop/Desktop/work/Motor-Imagery/EEG-python/Training/Visualization.ipynb#W3sZmlsZQ%3D%3D?line=14'>15</a>\u001b[0m cnorm \u001b[39m=\u001b[39m TwoSlopeNorm(vmin\u001b[39m=\u001b[39mvmin, vcenter\u001b[39m=\u001b[39m\u001b[39m0\u001b[39m, vmax\u001b[39m=\u001b[39mvmax)  \u001b[39m# min, center & max ERDS\u001b[39;00m\n",
      "File \u001b[0;32m~/Desktop/work/Motor-Imagery/EEG-python/Training/dataset.py:159\u001b[0m, in \u001b[0;36mEEG.epochs\u001b[0;34m(self, raw, tmin, tmax, baseline)\u001b[0m\n\u001b[1;32m    157\u001b[0m \u001b[39mdef\u001b[39;00m \u001b[39mepochs\u001b[39m(\u001b[39mself\u001b[39m,raw,tmin,tmax,baseline):\n\u001b[1;32m    158\u001b[0m     events \u001b[39m=\u001b[39m mne\u001b[39m.\u001b[39mfind_events(raw, stim_channel\u001b[39m=\u001b[39m\u001b[39m'\u001b[39m\u001b[39mSTIM MARKERS\u001b[39m\u001b[39m'\u001b[39m,verbose\u001b[39m=\u001b[39m\u001b[39m'\u001b[39m\u001b[39merror\u001b[39m\u001b[39m'\u001b[39m)\n\u001b[0;32m--> 159\u001b[0m     epochs \u001b[39m=\u001b[39m mne\u001b[39m.\u001b[39;49mEpochs(\n\u001b[1;32m    160\u001b[0m     raw,\n\u001b[1;32m    161\u001b[0m     events,\n\u001b[1;32m    162\u001b[0m     event_id\u001b[39m=\u001b[39;49m[\u001b[39m1\u001b[39;49m,\u001b[39m2\u001b[39;49m],\n\u001b[1;32m    163\u001b[0m     tmin\u001b[39m=\u001b[39;49mtmin,\n\u001b[1;32m    164\u001b[0m     tmax\u001b[39m=\u001b[39;49mtmax,\n\u001b[1;32m    165\u001b[0m     picks\u001b[39m=\u001b[39;49m\u001b[39m\"\u001b[39;49m\u001b[39mdata\u001b[39;49m\u001b[39m\"\u001b[39;49m,\n\u001b[1;32m    166\u001b[0m     on_missing\u001b[39m=\u001b[39;49m\u001b[39m'\u001b[39;49m\u001b[39mwarn\u001b[39;49m\u001b[39m'\u001b[39;49m,\n\u001b[1;32m    167\u001b[0m     proj\u001b[39m=\u001b[39;49m\u001b[39mTrue\u001b[39;49;00m,\n\u001b[1;32m    168\u001b[0m     baseline\u001b[39m=\u001b[39;49mbaseline,\n\u001b[1;32m    169\u001b[0m     preload\u001b[39m=\u001b[39;49m\u001b[39mTrue\u001b[39;49;00m,\n\u001b[1;32m    170\u001b[0m     verbose\u001b[39m=\u001b[39;49m\u001b[39m'\u001b[39;49m\u001b[39merror\u001b[39;49m\u001b[39m'\u001b[39;49m\n\u001b[1;32m    171\u001b[0m         )\n\u001b[1;32m    172\u001b[0m     \u001b[39mreturn\u001b[39;00m epochs\n",
      "File \u001b[0;32m<decorator-gen-286>:10\u001b[0m, in \u001b[0;36m__init__\u001b[0;34m(self, raw, events, event_id, tmin, tmax, baseline, picks, preload, reject, flat, proj, decim, reject_tmin, reject_tmax, detrend, on_missing, reject_by_annotation, metadata, event_repeated, verbose)\u001b[0m\n",
      "File \u001b[0;32m~/anaconda3/envs/mi/lib/python3.10/site-packages/mne/epochs.py:3087\u001b[0m, in \u001b[0;36mEpochs.__init__\u001b[0;34m(self, raw, events, event_id, tmin, tmax, baseline, picks, preload, reject, flat, proj, decim, reject_tmin, reject_tmax, detrend, on_missing, reject_by_annotation, metadata, event_repeated, verbose)\u001b[0m\n\u001b[1;32m   3084\u001b[0m raw_sfreq \u001b[39m=\u001b[39m raw\u001b[39m.\u001b[39minfo[\u001b[39m\"\u001b[39m\u001b[39msfreq\u001b[39m\u001b[39m\"\u001b[39m]\n\u001b[1;32m   3086\u001b[0m \u001b[39m# call BaseEpochs constructor\u001b[39;00m\n\u001b[0;32m-> 3087\u001b[0m \u001b[39msuper\u001b[39;49m(Epochs, \u001b[39mself\u001b[39;49m)\u001b[39m.\u001b[39;49m\u001b[39m__init__\u001b[39;49m(\n\u001b[1;32m   3088\u001b[0m     info,\n\u001b[1;32m   3089\u001b[0m     \u001b[39mNone\u001b[39;49;00m,\n\u001b[1;32m   3090\u001b[0m     events,\n\u001b[1;32m   3091\u001b[0m     event_id,\n\u001b[1;32m   3092\u001b[0m     tmin,\n\u001b[1;32m   3093\u001b[0m     tmax,\n\u001b[1;32m   3094\u001b[0m     metadata\u001b[39m=\u001b[39;49mmetadata,\n\u001b[1;32m   3095\u001b[0m     baseline\u001b[39m=\u001b[39;49mbaseline,\n\u001b[1;32m   3096\u001b[0m     raw\u001b[39m=\u001b[39;49mraw,\n\u001b[1;32m   3097\u001b[0m     picks\u001b[39m=\u001b[39;49mpicks,\n\u001b[1;32m   3098\u001b[0m     reject\u001b[39m=\u001b[39;49mreject,\n\u001b[1;32m   3099\u001b[0m     flat\u001b[39m=\u001b[39;49mflat,\n\u001b[1;32m   3100\u001b[0m     decim\u001b[39m=\u001b[39;49mdecim,\n\u001b[1;32m   3101\u001b[0m     reject_tmin\u001b[39m=\u001b[39;49mreject_tmin,\n\u001b[1;32m   3102\u001b[0m     reject_tmax\u001b[39m=\u001b[39;49mreject_tmax,\n\u001b[1;32m   3103\u001b[0m     detrend\u001b[39m=\u001b[39;49mdetrend,\n\u001b[1;32m   3104\u001b[0m     proj\u001b[39m=\u001b[39;49mproj,\n\u001b[1;32m   3105\u001b[0m     on_missing\u001b[39m=\u001b[39;49mon_missing,\n\u001b[1;32m   3106\u001b[0m     preload_at_end\u001b[39m=\u001b[39;49mpreload,\n\u001b[1;32m   3107\u001b[0m     event_repeated\u001b[39m=\u001b[39;49mevent_repeated,\n\u001b[1;32m   3108\u001b[0m     verbose\u001b[39m=\u001b[39;49mverbose,\n\u001b[1;32m   3109\u001b[0m     raw_sfreq\u001b[39m=\u001b[39;49mraw_sfreq,\n\u001b[1;32m   3110\u001b[0m     annotations\u001b[39m=\u001b[39;49mraw\u001b[39m.\u001b[39;49mannotations,\n\u001b[1;32m   3111\u001b[0m )\n",
      "File \u001b[0;32m<decorator-gen-272>:10\u001b[0m, in \u001b[0;36m__init__\u001b[0;34m(self, info, data, events, event_id, tmin, tmax, baseline, raw, picks, reject, flat, decim, reject_tmin, reject_tmax, detrend, proj, on_missing, preload_at_end, selection, drop_log, filename, metadata, event_repeated, raw_sfreq, annotations, verbose)\u001b[0m\n",
      "File \u001b[0;32m~/anaconda3/envs/mi/lib/python3.10/site-packages/mne/epochs.py:528\u001b[0m, in \u001b[0;36mBaseEpochs.__init__\u001b[0;34m(***failed resolving arguments***)\u001b[0m\n\u001b[1;32m    524\u001b[0m \u001b[39mself\u001b[39m\u001b[39m.\u001b[39mselection \u001b[39m=\u001b[39m selection\n\u001b[1;32m    525\u001b[0m \u001b[39mif\u001b[39;00m drop_log \u001b[39mis\u001b[39;00m \u001b[39mNone\u001b[39;00m:\n\u001b[1;32m    526\u001b[0m     \u001b[39mself\u001b[39m\u001b[39m.\u001b[39mdrop_log \u001b[39m=\u001b[39m \u001b[39mtuple\u001b[39m(\n\u001b[1;32m    527\u001b[0m         () \u001b[39mif\u001b[39;00m k \u001b[39min\u001b[39;00m \u001b[39mself\u001b[39m\u001b[39m.\u001b[39mselection \u001b[39melse\u001b[39;00m (\u001b[39m\"\u001b[39m\u001b[39mIGNORED\u001b[39m\u001b[39m\"\u001b[39m,)\n\u001b[0;32m--> 528\u001b[0m         \u001b[39mfor\u001b[39;00m k \u001b[39min\u001b[39;00m \u001b[39mrange\u001b[39m(\u001b[39mmax\u001b[39m(\u001b[39mlen\u001b[39m(\u001b[39mself\u001b[39m\u001b[39m.\u001b[39mevents), \u001b[39mmax\u001b[39;49m(\u001b[39mself\u001b[39;49m\u001b[39m.\u001b[39;49mselection) \u001b[39m+\u001b[39m \u001b[39m1\u001b[39m))\n\u001b[1;32m    529\u001b[0m     )\n\u001b[1;32m    530\u001b[0m \u001b[39melse\u001b[39;00m:\n\u001b[1;32m    531\u001b[0m     \u001b[39mself\u001b[39m\u001b[39m.\u001b[39mdrop_log \u001b[39m=\u001b[39m drop_log\n",
      "\u001b[0;31mValueError\u001b[0m: max() arg is an empty sequence"
     ]
    }
   ],
   "source": [
    "for i in range(len(runs)):\n",
    "    print('**************** {} **********'.format(runs_name[i]))\n",
    "    print('**************** {} **********'.format(runs[i]))\n",
    "    eeg = EEG(path,subjects, runs[i])\n",
    "    raw=eeg.data_to_raw()\n",
    "    raw=raw.notch_filter([50])\n",
    "    raw=raw.filter(8,13, method='fir', verbose=\"error\")\n",
    "    #print(\"HELLO\")\n",
    "    #print(raw.info['ch_names'])\n",
    "    raw.pick_channels(['T3','C3','C4','T4','STIM MARKERS'])\n",
    "    \n",
    "    epochs=eeg.epochs(raw,tmin=tmin,tmax=tmax,baseline=baseline) \n",
    "    event_ids = epochs.event_id\n",
    "    \n",
    "    cnorm = TwoSlopeNorm(vmin=vmin, vcenter=0, vmax=vmax)  # min, center & max ERDS\n",
    "    kwargs = dict(n_permutations=100, step_down_p=0.05, seed=1,\n",
    "                  buffer_size=None, out_type='mask')  # for cluster test\n",
    "    \n",
    "    \n",
    "    \n",
    "    tfr = tfr_multitaper(epochs, freqs=freqs, n_cycles=freqs, use_fft=True,return_itc=False, average=False, decim=1)\n",
    "    tfr.crop(tmin, tmax).apply_baseline(baseline, mode=\"percent\")\n",
    "    df = tfr.to_data_frame(time_format=None, long_format=True)\n",
    "    print(df)\n",
    "    df['band'] = pd.cut(df['freq'], list(freq_bounds.values()),\n",
    "                    labels=list(freq_bounds)[1:])\n",
    "    \n",
    "\n",
    "    \n",
    "    df = df[df.band.isin(freq_bands_of_interest)]\n",
    "\n",
    "    df['band'] = df['band'].cat.remove_unused_categories()\n",
    "\n",
    "    # Order channels for plotting:\n",
    "    #df['channel'] = df['channel'].cat.reorder_categories(('C3','C4','Cz'),\n",
    "       #                                                  ordered=True)\n",
    "    #FIX DYNAMIC PLEASE\n",
    "    g = sns.FacetGrid(df, row='band', col='condition')\n",
    "    g.map(sns.lineplot, 'time', 'value', 'channel', n_boot=10)\n",
    "    axline_kw = dict(color='black', linestyle='dashed', linewidth=0.5, alpha=0.5)\n",
    "    g.map(plt.axhline, y=0, **axline_kw)\n",
    "    g.map(plt.axvline, x=0, **axline_kw)\n",
    "    print(np.max(df.value))\n",
    "    #watch this\n",
    "    g.set(ylim=(-1, None))\n",
    "    g.set_axis_labels(\"Time (s)\", \"ERDS (%)\")\n",
    "    g.set_titles(col_template=\"{col_name}\", row_template=\"{row_name}\")\n",
    "    g.add_legend(ncol=2, loc='lower center')\n",
    "    g.fig.subplots_adjust(left=0.1, right=0.9, top=0.9, bottom=0.08)\n",
    "    \n",
    "    g.savefig(\"./ERD/{0}_ERD_S{1}.png\".format(runs_name[i],subjects[0])) \n",
    "    g.fig#.clf()"
   ]
  },
  {
   "attachments": {},
   "cell_type": "markdown",
   "metadata": {},
   "source": [
    "## Lapacian"
   ]
  },
  {
   "cell_type": "code",
   "execution_count": null,
   "metadata": {},
   "outputs": [],
   "source": [
    "raw_csd = mne.preprocessing.compute_current_source_density(raw)\n",
    "raw_csd.plot()"
   ]
  },
  {
   "attachments": {},
   "cell_type": "markdown",
   "metadata": {},
   "source": []
  }
 ],
 "metadata": {
  "kernelspec": {
   "display_name": ".venv",
   "language": "python",
   "name": "python3"
  },
  "language_info": {
   "codemirror_mode": {
    "name": "ipython",
    "version": 3
   },
   "file_extension": ".py",
   "mimetype": "text/x-python",
   "name": "python",
   "nbconvert_exporter": "python",
   "pygments_lexer": "ipython3",
   "version": "3.10.13"
  },
  "orig_nbformat": 4,
  "vscode": {
   "interpreter": {
    "hash": "71ee62090f476f7f208daa0d546a5a64db59508b1a22febc715667ce49424855"
   }
  }
 },
 "nbformat": 4,
 "nbformat_minor": 2
}
