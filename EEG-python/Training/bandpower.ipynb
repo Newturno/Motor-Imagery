{
 "cells": [
  {
   "cell_type": "code",
   "execution_count": 1,
   "metadata": {},
   "outputs": [],
   "source": [
    "import numpy as np\n",
    "import matplotlib.pyplot as plt\n",
    "import numpy as np\n",
    "import torch\n",
    "from torch import nn\n",
    "import torch.optim as optim\n",
    "import pywt\n",
    "from mne.time_frequency import tfr_multitaper\n",
    "from sklearn.model_selection import train_test_split\n",
    "import torch.cuda as cuda\n",
    "from torch.autograd import Variable\n",
    "import math\n",
    "\n",
    "from utils import create_dataloader,train,bandpower\n",
    "from dataset import EEG\n",
    "import wandb\n",
    "import sys\n",
    "import os\n",
    "sys.path.append(os.path.abspath(os.path.join('..')))\n",
    "# Now do your import\n",
    "from config import *"
   ]
  },
  {
   "cell_type": "code",
   "execution_count": 2,
   "metadata": {},
   "outputs": [
    {
     "name": "stdout",
     "output_type": "stream",
     "text": [
      "/Users/pongkornsettasompop/Desktop/work/Motor-Imagery/EEG-python/dataset/recorded_EEG\n",
      "/Users/pongkornsettasompop/Desktop/work/Motor-Imagery/EEG-python/dataset/recorded_EEG\n",
      "Raw done\n",
      "(17, 48880)\n",
      "125.0\n"
     ]
    }
   ],
   "source": [
    "\n",
    "path = RECORED_PATH\n",
    "run = 4\n",
    "left_runs = [run]\n",
    "right_runs = [run]\n",
    "#8-10  10-12 13-20\n",
    "band = [8,10]\n",
    "subjects = [22]\n",
    "#recorded eeg class\n",
    "left_eeg = EEG(path, subjects, left_runs)\n",
    "raw=left_eeg.data_to_raw()\n",
    "right_eeg = EEG(path, subjects, right_runs)\n",
    "right_raw = right_eeg.data_to_raw()\n",
    "\n",
    "print(\"Raw done\")\n",
    "data, sf = raw.get_data(), raw.info['sfreq']\n",
    "\n",
    "print(data.shape)\n",
    "print(sf)\n"
   ]
  },
  {
   "cell_type": "code",
   "execution_count": 3,
   "metadata": {},
   "outputs": [
    {
     "name": "stdout",
     "output_type": "stream",
     "text": [
      "NOTE: pick_channels() is a legacy function. New code should use inst.pick(...).\n",
      "NOTE: pick_channels() is a legacy function. New code should use inst.pick(...).\n"
     ]
    }
   ],
   "source": [
    "#pick channel\n",
    "# print(raw.info['ch_names'])\n",
    "stim = ['T3','C3','STIM MARKERS']\n",
    "raw = left_eeg.pickChannel(raw,stim)\n",
    "right_raw = right_eeg.pickChannel(right_raw,stim)\n",
    "# print(raw.info['ch_names'])\n",
    "# print(len(raw.info['ch_names']))"
   ]
  },
  {
   "cell_type": "code",
   "execution_count": 4,
   "metadata": {},
   "outputs": [
    {
     "name": "stdout",
     "output_type": "stream",
     "text": [
      "[428, 5317, 10206, 15095, 19984, 24873, 29762, 34651, 39540, 44429]\n",
      "(10, 2, 875) (10,)\n",
      "(2, 875)\n",
      "Effective window size : 2.048 (s)\n",
      "Average band power0.14643398387621648\n",
      "Multitaper band0.05538886271249052\n",
      "Effective window size : 2.048 (s)\n",
      "Effective window size : 2.048 (s)\n",
      "0.1374575866532473 0.16591794473979604\n"
     ]
    }
   ],
   "source": [
    "X_l,y_l = left_eeg.raw_preprocess(raw,event_id=[1.0],rest_stage=False)\n",
    "print(X_l.shape,y_l.shape)\n",
    "print(X_l[0].shape)\n",
    "bp = bandpower(X_l, sf, band)\n",
    "mul_bp = bandpower(X_l,sf,[8,13],method='multitaper')\n",
    "print('Average band power'+ str(bp))\n",
    "print('Multitaper band'+ str(mul_bp))\n",
    "\n",
    "handbp = bandpower(X_l[0:5],sf,band)\n",
    "footbp = bandpower(X_l[6:10],sf,band)\n",
    "print(handbp,footbp)"
   ]
  },
  {
   "cell_type": "code",
   "execution_count": 5,
   "metadata": {},
   "outputs": [
    {
     "name": "stdout",
     "output_type": "stream",
     "text": [
      "[2873, 7762, 12651, 17540, 22429, 27318, 32207, 37095, 41984, 46874]\n",
      "(10, 2, 875) (10,)\n",
      "(5, 2, 875)\n",
      "Effective window size : 2.048 (s)\n",
      "Average band power0.11579221105264367\n",
      "Multitaper band0.04216916695679131\n",
      "Effective window size : 2.048 (s)\n",
      "Effective window size : 2.048 (s)\n",
      "0.1040430522383144 0.12368619514198056\n"
     ]
    }
   ],
   "source": [
    "X_r,y_r = right_eeg.raw_preprocess(right_raw,event_id=[2.0],rest_stage=False)\n",
    "print(X_r.shape,y_l.shape)\n",
    "print(X_r[0:5].shape)\n",
    "bp = bandpower(X_r, sf, band)\n",
    "mul_bp = bandpower(X_r,sf,[8,13],method='multitaper')\n",
    "print('Average band power'+ str(bp))\n",
    "print('Multitaper band'+ str(mul_bp))\n",
    "\n",
    "handbp = bandpower(X_r[0:5],sf,band)\n",
    "footbp = bandpower(X_r[6:10],sf,band)\n",
    "print(handbp,footbp)"
   ]
  },
  {
   "cell_type": "code",
   "execution_count": 6,
   "metadata": {},
   "outputs": [
    {
     "name": "stdout",
     "output_type": "stream",
     "text": [
      "[1683, 4128, 6573, 9017, 11462, 13906, 16351, 18795, 21240, 23684, 26129, 28573, 31018, 33462, 35906, 38351, 40795, 43240, 45685, 48129]\n",
      "(20, 2, 875) (20,)\n",
      "(2, 875)\n",
      "Effective window size : 2.048 (s)\n",
      "Average band power0.14011796304865842\n",
      "Multitaper band0.050928523360378286\n",
      "Effective window size : 2.048 (s)\n",
      "Effective window size : 2.048 (s)\n",
      "0.12093973194916185 0.12198425986187778\n"
     ]
    }
   ],
   "source": [
    "# rest band\n",
    "X_l,y_l = left_eeg.raw_preprocess(raw,event_id=[3.0],rest_stage=False)\n",
    "print(X_l.shape,y_l.shape)\n",
    "print(X_l[0].shape)\n",
    "bp = bandpower(X_l, sf, band)\n",
    "mul_bp = bandpower(X_l,sf,[8,13],method='multitaper')\n",
    "print('Average band power'+ str(bp))\n",
    "print('Multitaper band'+ str(mul_bp))\n",
    "\n",
    "handbp = bandpower(X_l[0:5],sf,band)\n",
    "footbp = bandpower(X_l[6:10],sf,band)\n",
    "print(handbp,footbp)"
   ]
  },
  {
   "cell_type": "code",
   "execution_count": null,
   "metadata": {},
   "outputs": [],
   "source": [
    "X_l,y_l = left_eeg.raw_preprocess(raw,event_id=[1.0],rest_stage=False)\n",
    "print(X_l.shape,y_l.shape)\n",
    "X_r,y_r = right_eeg.raw_preprocess(right_raw,event_id=[2.0],rest_stage=False)\n",
    "X = np.concatenate((X_l,X_r),axis=0)\n",
    "y = np.concatenate((y_l,y_r),axis=0)\n",
    "print(X.shape,y.shape)"
   ]
  }
 ],
 "metadata": {
  "kernelspec": {
   "display_name": "mi",
   "language": "python",
   "name": "python3"
  },
  "language_info": {
   "codemirror_mode": {
    "name": "ipython",
    "version": 3
   },
   "file_extension": ".py",
   "mimetype": "text/x-python",
   "name": "python",
   "nbconvert_exporter": "python",
   "pygments_lexer": "ipython3",
   "version": "3.10.13"
  }
 },
 "nbformat": 4,
 "nbformat_minor": 2
}
